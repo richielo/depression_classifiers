{
 "cells": [
  {
   "cell_type": "code",
   "execution_count": 8,
   "metadata": {
    "collapsed": true
   },
   "outputs": [],
   "source": [
    "from __future__ import print_function\n",
    "from IPython.display import display, HTML\n",
    "import os\n",
    "import sys\n",
    "import csv\n",
    "import time\n",
    "import statistics\n",
    "import numpy as np\n",
    "import string\n",
    "import pandas as pd\n",
    "import json"
   ]
  },
  {
   "cell_type": "code",
   "execution_count": 20,
   "metadata": {},
   "outputs": [
    {
     "name": "stdout",
     "output_type": "stream",
     "text": [
      "ID: 870430762255953920 label: -1\n"
     ]
    }
   ],
   "source": [
    "#import and parse data, match with labels\n",
    "rawEngTwitData = open('data/tweetdata.txt', 'r')\n",
    "twitDataLabels = pd.read_csv('data/tweetlabels.csv')\n",
    "i = 0\n",
    "for line in rawEngTwitData:\n",
    "    twitObj = json.loads(line)\n",
    "    #Empty object\n",
    "    if('created_at'not in twitObj):\n",
    "        continue\n",
    "    else:\n",
    "        twitID = twitObj['id']\n",
    "        twitText = twitObj['text']\n",
    "        #Find corresponding label from label dataframe\n",
    "        label = twitDataLabels[twitDataLabels.id == twitID]['sentiment'].iloc[0]\n",
    "        if(label == 0):\n",
    "            label = -1\n",
    "        print(\"ID: \" + str(twitID) + ' label: ' + str(label))\n",
    "        break"
   ]
  },
  {
   "cell_type": "code",
   "execution_count": null,
   "metadata": {
    "collapsed": true
   },
   "outputs": [],
   "source": []
  }
 ],
 "metadata": {
  "kernelspec": {
   "display_name": "Python 2",
   "language": "python",
   "name": "python2"
  },
  "language_info": {
   "codemirror_mode": {
    "name": "ipython",
    "version": 2
   },
   "file_extension": ".py",
   "mimetype": "text/x-python",
   "name": "python",
   "nbconvert_exporter": "python",
   "pygments_lexer": "ipython2",
   "version": "2.7.13"
  }
 },
 "nbformat": 4,
 "nbformat_minor": 2
}
